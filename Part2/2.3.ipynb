{
 "cells": [
  {
   "cell_type": "markdown",
   "metadata": {},
   "source": [
    "![](https://i.imgur.com/eBRPvWB.png)\n",
    "\n",
    "# Practical PyTorch: Generating Shakespeare with a Character-Level RNN\n",
    "\n",
    "[In the RNN classification tutorial](https://github.com/spro/practical-pytorch/blob/master/char-rnn-classification/char-rnn-classification.ipynb) we used a RNN to classify text one character at a time. This time we'll generate text one character at a time.\n",
    "\n",
    "```\n",
    "> python generate.py -n 500\n",
    "\n",
    "PAOLTREDN:\n",
    "Let, yil exter shis owrach we so sain, fleas,\n",
    "Be wast the shall deas, puty sonse my sheete.\n",
    "\n",
    "BAUFIO:\n",
    "Sirh carrow out with the knonuot my comest sifard queences\n",
    "O all a man unterd.\n",
    "\n",
    "PROMENSJO:\n",
    "Ay, I to Heron, I sack, againous; bepear, Butch,\n",
    "An as shalp will of that seal think.\n",
    "\n",
    "NUKINUS:\n",
    "And house it to thee word off hee:\n",
    "And thou charrota the son hange of that shall denthand\n",
    "For the say hor you are of I folles muth me?\n",
    "```\n",
    "\n",
    "This one might make you question the series title &mdash; \"is that really practical?\" However, these sorts of generative models form the basis of machine translation, image captioning, question answering and more. See the [Sequence to Sequence Translation tutorial](https://github.com/spro/practical-pytorch/blob/master/seq2seq-translation/seq2seq-translation.ipynb) for more on that topic."
   ]
  },
  {
   "cell_type": "markdown",
   "metadata": {},
   "source": [
    "# Recommended Reading\n",
    "\n",
    "I assume you have at least installed PyTorch, know Python, and understand Tensors:\n",
    "\n",
    "* http://pytorch.org/ For installation instructions\n",
    "* [Deep Learning with PyTorch: A 60-minute Blitz](https://github.com/pytorch/tutorials/blob/master/Deep%20Learning%20with%20PyTorch.ipynb) to get started with PyTorch in general\n",
    "* [jcjohnson's PyTorch examples](https://github.com/jcjohnson/pytorch-examples) for an in depth overview\n",
    "* [Introduction to PyTorch for former Torchies](https://github.com/pytorch/tutorials/blob/master/Introduction%20to%20PyTorch%20for%20former%20Torchies.ipynb) if you are former Lua Torch user\n",
    "\n",
    "It would also be useful to know about RNNs and how they work:\n",
    "\n",
    "* [The Unreasonable Effectiveness of Recurrent Neural Networks](http://karpathy.github.io/2015/05/21/rnn-effectiveness/) shows a bunch of real life examples\n",
    "* [Understanding LSTM Networks](http://colah.github.io/posts/2015-08-Understanding-LSTMs/) is about LSTMs specifically but also informative about RNNs in general\n",
    "\n",
    "Also see these related tutorials from the series:\n",
    "\n",
    "* [Classifying Names with a Character-Level RNN](https://github.com/spro/practical-pytorch/blob/master/char-rnn-classification/char-rnn-classification.ipynb) uses an RNN for classification\n",
    "* [Generating Names with a Conditional Character-Level RNN](https://github.com/spro/practical-pytorch/blob/master/conditional-char-rnn/conditional-char-rnn.ipynb) builds on this model to add a category as input"
   ]
  },
  {
   "cell_type": "markdown",
   "metadata": {},
   "source": [
    "# Prepare data\n",
    "\n",
    "The file we are using is a plain text file. We turn any potential unicode characters into plain ASCII by using the `unidecode` package (which you can install via `pip` or `conda`)."
   ]
  },
  {
   "cell_type": "code",
   "execution_count": 1,
   "metadata": {
    "collapsed": false,
    "jupyter": {
     "outputs_hidden": false
    }
   },
   "outputs": [
    {
     "name": "stdout",
     "output_type": "stream",
     "text": [
      "file_len = 4373595\n"
     ]
    }
   ],
   "source": [
    "import unidecode\n",
    "import string\n",
    "import random\n",
    "import re\n",
    "\n",
    "all_characters = string.printable\n",
    "n_characters = len(all_characters)\n",
    "\n",
    "file = unidecode.unidecode(open('datasets/test.txt').read())\n",
    "val_file = unidecode.unidecode(open('datasets/validation.txt').read())\n",
    "val_len = len(val_file)\n",
    "file_len = len(file)\n",
    "print('file_len =', file_len)"
   ]
  },
  {
   "cell_type": "markdown",
   "metadata": {},
   "source": [
    "To make inputs out of this big string of data, we will be splitting it into chunks."
   ]
  },
  {
   "cell_type": "code",
   "execution_count": 2,
   "metadata": {
    "collapsed": false,
    "jupyter": {
     "outputs_hidden": false
    }
   },
   "outputs": [
    {
     "name": "stdout",
     "output_type": "stream",
     "text": [
      " acted, there could be no danger of it; and as long as\n",
      "all mention of Bath scenes were avoided, she thought she could behave\n",
      "to him very civilly. In such considerations time passed away, and it was\n",
      "cer\n"
     ]
    }
   ],
   "source": [
    "chunk_len = 200\n",
    "\n",
    "def random_chunk():\n",
    "    start_index = random.randint(0, file_len - chunk_len)\n",
    "    end_index = start_index + chunk_len + 1\n",
    "    return file[start_index:end_index]\n",
    "\n",
    "def random_val_chunk():\n",
    "    start_index = random.randint(0, val_len - chunk_len)\n",
    "    end_index = start_index + chunk_len + 1\n",
    "    return val_file[start_index:end_index]\n",
    "\n",
    "print(random_chunk())"
   ]
  },
  {
   "cell_type": "markdown",
   "metadata": {},
   "source": [
    "# Build the Model\n",
    "\n",
    "This model will take as input the character for step $t_{-1}$ and is expected to output the next character $t$. There are three layers - one linear layer that encodes the input character into an internal state, one GRU layer (which may itself have multiple layers) that operates on that internal state and a hidden state, and a decoder layer that outputs the probability distribution."
   ]
  },
  {
   "cell_type": "code",
   "execution_count": 3,
   "metadata": {
    "collapsed": false,
    "jupyter": {
     "outputs_hidden": false
    }
   },
   "outputs": [],
   "source": [
    "import torch\n",
    "import torch.nn as nn\n",
    "from torch.autograd import Variable\n",
    "\n",
    "class RNN(nn.Module):\n",
    "    def __init__(self, input_size, hidden_size, output_size, n_layers=1):\n",
    "        super(RNN, self).__init__()\n",
    "        self.input_size = input_size\n",
    "        self.hidden_size = hidden_size\n",
    "        self.output_size = output_size\n",
    "        self.n_layers = n_layers\n",
    "        \n",
    "        self.encoder = nn.Embedding(input_size, hidden_size)\n",
    "        self.gru = nn.GRU(hidden_size, hidden_size, n_layers)\n",
    "        self.decoder = nn.Linear(hidden_size, output_size)\n",
    "    \n",
    "    def forward(self, input, hidden):\n",
    "        input = self.encoder(input.view(1, -1))\n",
    "        output, hidden = self.gru(input.view(1, 1, -1), hidden)\n",
    "        output = self.decoder(output.view(1, -1))\n",
    "        return output, hidden\n",
    "\n",
    "    def init_hidden(self):\n",
    "        return Variable(torch.zeros(self.n_layers, 1, self.hidden_size))"
   ]
  },
  {
   "cell_type": "markdown",
   "metadata": {},
   "source": [
    "# Inputs and Targets"
   ]
  },
  {
   "cell_type": "markdown",
   "metadata": {},
   "source": [
    "Each chunk will be turned into a tensor, specifically a `LongTensor` (used for integer values), by looping through the characters of the string and looking up the index of each character in `all_characters`."
   ]
  },
  {
   "cell_type": "code",
   "execution_count": 4,
   "metadata": {
    "collapsed": false,
    "jupyter": {
     "outputs_hidden": false
    }
   },
   "outputs": [
    {
     "name": "stdout",
     "output_type": "stream",
     "text": [
      "tensor([10, 11, 12, 39, 40, 41])\n"
     ]
    }
   ],
   "source": [
    "# Turn string into list of longs\n",
    "def char_tensor(string):\n",
    "    tensor = torch.zeros(len(string)).long()\n",
    "    for c in range(len(string)):\n",
    "        tensor[c] = all_characters.index(string[c])\n",
    "    return Variable(tensor)\n",
    "\n",
    "print(char_tensor('abcDEF'))"
   ]
  },
  {
   "cell_type": "markdown",
   "metadata": {},
   "source": [
    "Finally we can assemble a pair of input and target tensors for training, from a random chunk. The input will be all characters *up to the last*, and the target will be all characters *from the first*. So if our chunk is \"abc\" the input will correspond to \"ab\" while the target is \"bc\"."
   ]
  },
  {
   "cell_type": "code",
   "execution_count": 5,
   "metadata": {},
   "outputs": [],
   "source": [
    "def random_training_set():\n",
    "    while True:\n",
    "        chunk = random_chunk()\n",
    "        inp = char_tensor(chunk[:-1])\n",
    "        target = char_tensor(chunk[1:])\n",
    "        if len(inp) != 0 and len(target) !=0:\n",
    "            break\n",
    "    return inp, target\n",
    "\n",
    "def random_validation_set():\n",
    "    while True:\n",
    "        chunk = random_val_chunk()\n",
    "        inp = char_tensor(chunk[:-1])\n",
    "        target = char_tensor(chunk[1:])\n",
    "        if len(inp) != 0 and len(target) !=0:\n",
    "            break\n",
    "    return inp, target"
   ]
  },
  {
   "cell_type": "markdown",
   "metadata": {},
   "source": [
    "# Evaluating\n",
    "\n",
    "To evaluate the network we will feed one character at a time, use the outputs of the network as a probability distribution for the next character, and repeat. To start generation we pass a priming string to start building up the hidden state, from which we then generate one character at a time."
   ]
  },
  {
   "cell_type": "code",
   "execution_count": 6,
   "metadata": {
    "collapsed": false,
    "jupyter": {
     "outputs_hidden": false
    }
   },
   "outputs": [],
   "source": [
    "def evaluate(prime_str='A', predict_len=100, temperature=0.8):\n",
    "    hidden = decoder.init_hidden()\n",
    "    prime_input = char_tensor(prime_str)\n",
    "    predicted = prime_str\n",
    "\n",
    "    # Use priming string to \"build up\" hidden state\n",
    "    for p in range(len(prime_str) - 1):\n",
    "        _, hidden = decoder(prime_input[p], hidden)\n",
    "    inp = prime_input[-1]\n",
    "    \n",
    "    for p in range(predict_len):\n",
    "        output, hidden = decoder(inp, hidden)\n",
    "        \n",
    "        # Sample from the network as a multinomial distribution\n",
    "        output_dist = output.data.view(-1).div(temperature).exp()\n",
    "        top_i = torch.multinomial(output_dist, 1)[0]\n",
    "        \n",
    "        # Add predicted character to string and use as next input\n",
    "        predicted_char = all_characters[top_i]\n",
    "        predicted += predicted_char\n",
    "        inp = char_tensor(predicted_char)\n",
    "\n",
    "    return predicted"
   ]
  },
  {
   "cell_type": "markdown",
   "metadata": {},
   "source": [
    "# Training"
   ]
  },
  {
   "cell_type": "markdown",
   "metadata": {},
   "source": [
    "A helper to print the amount of time passed:"
   ]
  },
  {
   "cell_type": "code",
   "execution_count": 7,
   "metadata": {},
   "outputs": [],
   "source": [
    "import time, math\n",
    "\n",
    "def time_since(since):\n",
    "    s = time.time() - since\n",
    "    m = math.floor(s / 60)\n",
    "    s -= m * 60\n",
    "    return '%dm %ds' % (m, s)"
   ]
  },
  {
   "cell_type": "markdown",
   "metadata": {},
   "source": [
    "The main training function"
   ]
  },
  {
   "cell_type": "code",
   "execution_count": 8,
   "metadata": {
    "tags": []
   },
   "outputs": [],
   "source": [
    "def train(inp, target):\n",
    "    hidden = decoder.init_hidden()\n",
    "    decoder.zero_grad()\n",
    "    loss = 0\n",
    "\n",
    "    for c in range(chunk_len):\n",
    "        output, hidden = decoder(inp[c], hidden)\n",
    "        loss += criterion(output, target[c].flatten())\n",
    "\n",
    "    loss.backward()\n",
    "    decoder_optimizer.step()\n",
    "\n",
    "    return loss.item()/ chunk_len"
   ]
  },
  {
   "cell_type": "markdown",
   "metadata": {},
   "source": [
    "Then we define the training parameters, instantiate the model, and start training:"
   ]
  },
  {
   "cell_type": "code",
   "execution_count": 9,
   "metadata": {
    "collapsed": false,
    "jupyter": {
     "outputs_hidden": false
    }
   },
   "outputs": [
    {
     "name": "stdout",
     "output_type": "stream",
     "text": [
      "[0m 22s (100 5%) 2.2314]\n",
      "Wh'gre orachery selachas and penttin omad the, mers the the now noum secot bestifty peer aress ang it  \n",
      "\n",
      "[0m 40s (200 10%) 2.7844]\n",
      "Whe spandey\n",
      "and surl; and of and for mbeted of thee for her at colditthe rounksed\n",
      "at wheary fart Ren w \n",
      "\n",
      "[1m 0s (300 15%) 2.2559]\n",
      "Wh the Frary murt be had\n",
      "a war And,  nothing the her a thove chanother shis\n",
      "re, and her common of inte \n",
      "\n",
      "[1m 17s (400 20%) 1.8902]\n",
      "Whe wighto bele gould not whansterst seuced faen every she counten; the hin kent be must of there the  \n",
      "\n",
      "[1m 35s (500 25%) 1.8215]\n",
      "Wh there in imsels her and the my her shich commed an the the nerated for there of penevery to the giv \n",
      "\n",
      "[1m 53s (600 30%) 2.4637]\n",
      "Whathat in.\" Heing sowning have\n",
      "that of this he sall cruch pelessing thimshalleme,\" sarly, had pose it \n",
      "\n",
      "[2m 10s (700 35%) 2.0379]\n",
      "Whed faving have eder.\n",
      "To _iEd. Wectoldles at fathery by it have not haver souch of kne said\n",
      "having a  \n",
      "\n",
      "[2m 27s (800 40%) 1.8810]\n",
      "Whon I give to was as present, and necere, but was eack.\n",
      "\"I the been hee to be cleate, \n",
      "\"if, that spie \n",
      "\n",
      "[2m 44s (900 45%) 2.2130]\n",
      "Wh were has not it intenced at sain feeling mis with sirance quite her grandstred he was hardeds, but  \n",
      "\n",
      "[3m 4s (1000 50%) 1.6609]\n",
      "Whed nevin any comeming to house to plasted to was to had remptance to\n",
      "to saen to be she dispone to wi \n",
      "\n",
      "[3m 22s (1100 55%) 1.9890]\n",
      "Whermunily nistand aparmacas ey was cond it urings, hid in the sister thing\n",
      "have have in the pay, and  \n",
      "\n",
      "[3m 39s (1200 60%) 1.7302]\n",
      "When, would nocliackial and you was what as CiPpat at the have any and with\n",
      "percomed wit lith which \"A \n",
      "\n",
      "[3m 58s (1300 65%) 1.8549]\n",
      "Whtions supperisured him in crear and and meinaly of\n",
      "are were eraid, and would and there is recurd at  \n",
      "\n",
      "[4m 15s (1400 70%) 1.9582]\n",
      "What the for interest confort\n",
      "and a contrabiese, that\n",
      "here was not be had injorned what more some know \n",
      "\n",
      "[4m 32s (1500 75%) 1.6794]\n",
      "Whel, and her be had nom\n",
      "her his see his soner in sees him seementbed her, with the hope, I converises \n",
      "\n",
      "[4m 51s (1600 80%) 1.6570]\n",
      "Wheme it, I cormfordigh at that must have not of him of aman ston, \"I had stad she plite he his disara \n",
      "\n",
      "[5m 10s (1700 85%) 1.7024]\n",
      "Whundly attents much not he there to the\n",
      "which and posether, and being on not sented think comploing,\n",
      " \n",
      "\n",
      "[5m 28s (1800 90%) 1.8176]\n",
      "Whamed, when\n",
      "was uche ham. I chilled the jom do so. The work. I houch would be himprence was an of be  \n",
      "\n",
      "[5m 46s (1900 95%) 2.0862]\n",
      "Whelf from Mariand, with of who well. But Miss Dillight\n",
      "toot aware, and will what offectly whilh as a\n",
      " \n",
      "\n",
      "[6m 4s (2000 100%) 1.7303]\n",
      "Why, and so in ther?\n",
      "\n",
      "\"I perfaine. She ending the his be. The pressift him any it a his attens' fol th \n",
      "\n"
     ]
    }
   ],
   "source": [
    "n_epochs = 2000\n",
    "print_every = 100\n",
    "plot_every = 10\n",
    "hidden_size = 100\n",
    "n_layers = 1\n",
    "lr = 0.005\n",
    "\n",
    "decoder = RNN(n_characters, hidden_size, n_characters, n_layers)\n",
    "decoder_optimizer = torch.optim.Adam(decoder.parameters(), lr=lr)\n",
    "criterion = nn.CrossEntropyLoss()\n",
    "\n",
    "start = time.time()\n",
    "all_losses = []\n",
    "loss_avg = 0\n",
    "\n",
    "for epoch in range(1, n_epochs + 1):\n",
    "    loss = train(*random_training_set())       \n",
    "    loss_avg += loss\n",
    "\n",
    "    if epoch % print_every == 0:\n",
    "        print('[%s (%d %d%%) %.4f]' % (time_since(start), epoch, epoch / n_epochs * 100, loss))\n",
    "        print(evaluate('Wh', 100), '\\n')\n",
    "\n",
    "    if epoch % plot_every == 0:\n",
    "        all_losses.append(loss_avg / plot_every)\n",
    "        loss_avg = 0\n",
    "        \n",
    "\n"
   ]
  },
  {
   "cell_type": "markdown",
   "metadata": {},
   "source": [
    "# Plotting the Training Losses\n",
    "\n",
    "Plotting the historical loss from all_losses shows the network learning:"
   ]
  },
  {
   "cell_type": "code",
   "execution_count": 10,
   "metadata": {
    "collapsed": false,
    "jupyter": {
     "outputs_hidden": false
    }
   },
   "outputs": [
    {
     "data": {
      "text/plain": [
       "[<matplotlib.lines.Line2D at 0x1cf13cea940>]"
      ]
     },
     "execution_count": 10,
     "metadata": {},
     "output_type": "execute_result"
    },
    {
     "data": {
      "image/png": "[encoded data removed]",
      "text/plain": [
       "<Figure size 432x288 with 1 Axes>"
      ]
     },
     "metadata": {
      "needs_background": "light"
     },
     "output_type": "display_data"
    }
   ],
   "source": [
    "import matplotlib.pyplot as plt\n",
    "import matplotlib.ticker as ticker\n",
    "%matplotlib inline\n",
    "\n",
    "plt.figure()\n",
    "plt.plot(all_losses)\n",
    "\n"
   ]
  },
  {
   "cell_type": "markdown",
   "metadata": {},
   "source": [
    "# Evaluating at different \"temperatures\"\n",
    "\n",
    "In the `evaluate` function above, every time a prediction is made the outputs are divided by the \"temperature\" argument passed. Using a higher number makes all actions more equally likely, and thus gives us \"more random\" outputs. Using a lower value (less than 1) makes high probabilities contribute more. As we turn the temperature towards zero we are choosing only the most likely outputs.\n",
    "\n",
    "We can see the effects of this by adjusting the `temperature` argument."
   ]
  },
  {
   "cell_type": "code",
   "execution_count": 11,
   "metadata": {
    "collapsed": false,
    "jupyter": {
     "outputs_hidden": false
    }
   },
   "outputs": [
    {
     "name": "stdout",
     "output_type": "stream",
     "text": [
      "[0m 7s (100 5%) 1.7303]\n",
      "Whould not for a vervening he fatheran to could do her some is a forming, it it all the possead it am  \n",
      "\n",
      "5.299183729580725\n",
      "[0m 13s (200 10%) 1.7303]\n",
      "Wheor\n",
      "mading thood it in the any to quite the persaily a wantle\n",
      "on I am trike to uppersent with down y \n",
      "\n",
      "5.1646159807223855\n",
      "[0m 20s (300 15%) 1.7303]\n",
      "Whelanced resemvoore\n",
      "a resoldite the allatt of mote in the in Mrs. Marst like as I might its\n",
      "was not a \n",
      "\n",
      "7.006435410294428\n",
      "[0m 27s (400 20%) 1.7303]\n",
      "Whes would not poster on her ming to had peasition,\n",
      "on. But I he had not love very in as meed lefte th \n",
      "\n",
      "8.522280940187079\n",
      "[0m 34s (500 25%) 1.7303]\n",
      "Whose alway room an to sankifes or sping as\n",
      "vile Mrs Chuss and mind in think, I can not belies. To not \n",
      "\n",
      "5.520426932792082\n",
      "[0m 41s (600 30%) 1.7303]\n",
      "Wher he his had been you, I\n",
      "are for pay pever it want a though more tem that the never repervaing in t \n",
      "\n",
      "4.772112130094987\n",
      "[0m 48s (700 35%) 1.7303]\n",
      "When who were to his again the a replept love sith with prover the sam see is the\n",
      "see her preseve, als \n",
      "\n",
      "5.9333817566749865\n",
      "[0m 55s (800 40%) 1.7303]\n",
      "When the CiInuct, and wover of more awarns impreave in\n",
      "a very not it, a mane on her up a she vere seal \n",
      "\n",
      "6.681993367341807\n",
      "[1m 3s (900 45%) 1.7303]\n",
      "Wherly and\n",
      "mean a very need as bas no his not like other, you pere and a milution, \"I would esequesard \n",
      "\n",
      "8.550085771880724\n",
      "[1m 9s (1000 50%) 1.7303]\n",
      "Wh to head, the sever imise, in she dorsing possifficed proved sure\n",
      "thing loven she conversant, mad th \n",
      "\n",
      "5.290333818980338\n",
      "[1m 17s (1100 55%) 1.7303]\n",
      "Whes I perepreven this conton\n",
      "the repled not at I shought in the the some very a be sit possible\n",
      "for b \n",
      "\n",
      "4.2755180376184665\n",
      "[1m 23s (1200 60%) 1.7303]\n",
      "Whise I reserved all the\n",
      "indentance a deverpen a the received the do?\" Mr. Evare or to lat it when sho \n",
      "\n",
      "5.566269932986405\n",
      "[1m 30s (1300 65%) 1.7303]\n",
      "Whund's quite impplare into hors, I has\n",
      "in suld a down I was a good me silen to he depon for mind it a \n",
      "\n",
      "6.2249487915782975\n",
      "[1m 37s (1400 70%) 1.7303]\n",
      "Whes mis and depure to lave in could and to sayless to her very not and wish of accover quite on to al \n",
      "\n",
      "5.42769106054929\n",
      "[1m 44s (1500 75%) 1.7303]\n",
      "Whing mented he prevardieces. Em this knoped though I would name\n",
      "provess of the polesfelde?\"\n",
      "\n",
      "\"Chapper \n",
      "\n",
      "5.351664769248594\n",
      "[1m 51s (1600 80%) 1.7303]\n",
      "Whoss, you do be quite in to say the suply\n",
      "me sackingral and for for as the would be to more open a co \n",
      "\n",
      "5.745141218930193\n",
      "[1m 58s (1700 85%) 1.7303]\n",
      "Whing I have kes not in Annow you saiving the day, as I do not me a glized so not a make I all the\n",
      "wou \n",
      "\n",
      "6.846121249679938\n",
      "[2m 5s (1800 90%) 1.7303]\n",
      "Whing his be said shatious for man it, and till a get disabe gaster\n",
      "convins and for the would we were  \n",
      "\n",
      "6.65928496035587\n",
      "[2m 12s (1900 95%) 1.7303]\n",
      "Whuls a dirry was a bas so the deperturnest be the questing o this\n",
      "resole to be pontrong's such a shar \n",
      "\n",
      "4.385449300978874\n",
      "[2m 19s (2000 100%) 1.7303]\n",
      "Wher I day you pant on famm, I am suppose\n",
      "at moment letter she had point a memore it be is be not in e \n",
      "\n",
      "4.6416038648577596\n",
      "5.893227151266663\n"
     ]
    }
   ],
   "source": [
    "def validate(inp, target):\n",
    "    hidden = decoder.init_hidden()\n",
    "    decoder.zero_grad()\n",
    "    loss = 0\n",
    "\n",
    "    for c in range(chunk_len):\n",
    "        output, hidden = decoder(inp[c], hidden)\n",
    "        loss += criterion(output, target[c].flatten())\n",
    "        \n",
    "    return loss.item()/ chunk_len\n",
    "\n",
    "start = time.time()\n",
    "val_all_losses = []\n",
    "val_loss_avg = 0\n",
    "totPerplexity = 0\n",
    "ppAverage = 0\n",
    "counter = 0\n",
    "for epoch in range(1, n_epochs + 1):\n",
    "    val_loss =  validate(*random_validation_set())       \n",
    "    val_loss_avg += val_loss\n",
    "\n",
    "    if epoch % print_every == 0:\n",
    "        print('[%s (%d %d%%) %.4f]' % (time_since(start), epoch, epoch / n_epochs * 100, loss))\n",
    "        print(evaluate('Wh', 100), '\\n')\n",
    "        perplexity = math.exp(val_loss)\n",
    "        print(perplexity)\n",
    "        totPerplexity = totPerplexity + perplexity\n",
    "        counter = counter + 1\n",
    "\n",
    "    if epoch % plot_every == 0:\n",
    "        val_all_losses.append(loss_avg / plot_every)\n",
    "        loss_avg = 0\n",
    "        \n",
    "ppAverage = totPerplexity/ counter\n",
    "print(ppAverage)\n"
   ]
  },
  {
   "cell_type": "code",
   "execution_count": 12,
   "metadata": {
    "collapsed": false,
    "jupyter": {
     "outputs_hidden": false
    }
   },
   "outputs": [
    {
     "name": "stdout",
     "output_type": "stream",
     "text": [
      "[0m 6s (100 92%) 1.7303]\n",
      "Whatl very be upprevent. An it\n",
      "pleofbles plep propers been the was of he me shald the Edmund wave of t \n",
      "\n",
      "7.403221795293685\n",
      "7.403221795293685\n"
     ]
    }
   ],
   "source": [
    "val_file = unidecode.unidecode(open('dataset/validation2.txt').read())\n",
    "val_len = len(val_file)\n",
    "n_epochs = 108\n",
    "start = time.time()\n",
    "val_all_losses = []\n",
    "val_loss_avg = 0\n",
    "totPerplexity = 0\n",
    "ppAverage = 0\n",
    "counter = 0\n",
    "for epoch in range(1, n_epochs + 1):\n",
    "    val_loss =  validate(*random_validation_set())       \n",
    "    val_loss_avg += val_loss\n",
    "\n",
    "    if epoch % print_every == 0:\n",
    "        print('[%s (%d %d%%) %.4f]' % (time_since(start), epoch, epoch / n_epochs * 100, loss))\n",
    "        print(evaluate('Wh', 100), '\\n')\n",
    "        perplexity = math.exp(val_loss)\n",
    "        print(perplexity)\n",
    "        totPerplexity = totPerplexity + perplexity\n",
    "        counter = counter + 1\n",
    "\n",
    "    if epoch % plot_every == 0:\n",
    "        val_all_losses.append(loss_avg / plot_every)\n",
    "        loss_avg = 0\n",
    "        \n",
    "ppAverage = totPerplexity/ counter\n",
    "print(ppAverage)\n"
   ]
  },
  {
   "cell_type": "code",
   "execution_count": 13,
   "metadata": {
    "collapsed": false,
    "jupyter": {
     "outputs_hidden": false
    }
   },
   "outputs": [
    {
     "name": "stdout",
     "output_type": "stream",
     "text": [
      "Cake id very, for coather when\n",
      "pointer not do bowfore poosers, and hem indentinought that it in is would a very exprove on the cannot it\n",
      "Cown him in his regreal, as she woord good to here\n",
      "thing it it grav\n"
     ]
    }
   ],
   "source": [
    "print(evaluate('Cake', 200, temperature=0.8))"
   ]
  },
  {
   "cell_type": "markdown",
   "metadata": {},
   "source": [
    "Lower temperatures are less varied, choosing only the more probable outputs:"
   ]
  },
  {
   "cell_type": "code",
   "execution_count": 14,
   "metadata": {
    "collapsed": false,
    "jupyter": {
     "outputs_hidden": false
    }
   },
   "outputs": [
    {
     "name": "stdout",
     "output_type": "stream",
     "text": [
      "Ther for a great in the some it it with in the grouse it in the said the never at the present the lance in the said the some in the some it a do not of the said the some it in the said a do not love a g\n"
     ]
    }
   ],
   "source": [
    "print(evaluate('Th', 200, temperature=0.2))"
   ]
  },
  {
   "cell_type": "markdown",
   "metadata": {},
   "source": [
    "Higher temperatures more varied, choosing less probable outputs:"
   ]
  },
  {
   "cell_type": "code",
   "execution_count": 15,
   "metadata": {
    "collapsed": false,
    "jupyter": {
     "outputs_hidden": false
    }
   },
   "outputs": [
    {
     "name": "stdout",
     "output_type": "stream",
     "text": [
      "Thm grank from his\n",
      "fathide, my esmin! shoust coracqually,\" is, I at I shade it.\"\n",
      "\n",
      "\"not had himsed! He garriak; a with mey, a t; shoubke and said_ formore,\n",
      "pecclectlu, he wournayant you! Hen belily\n",
      "othel\n"
     ]
    }
   ],
   "source": [
    "print(evaluate('Th', 200, temperature=1.4))"
   ]
  },
  {
   "cell_type": "markdown",
   "metadata": {},
   "source": [
    "# Exercises\n",
    "\n",
    "* Train with your own dataset, e.g.\n",
    "    * Text from another author\n",
    "    * Blog posts\n",
    "    * Code\n",
    "* Increase number of layers and network size to get better results"
   ]
  },
  {
   "cell_type": "markdown",
   "metadata": {},
   "source": [
    "**Next**: [Generating Names with a Conditional Character-Level RNN](https://github.com/spro/practical-pytorch/blob/master/conditional-char-rnn/conditional-char-rnn.ipynb)"
   ]
  }
 ],
 "metadata": {
  "anaconda-cloud": {},
  "kernelspec": {
   "display_name": "Python 3 (ipykernel)",
   "language": "python",
   "name": "python3"
  },
  "language_info": {
   "codemirror_mode": {
    "name": "ipython",
    "version": 3
   },
   "file_extension": ".py",
   "mimetype": "text/x-python",
   "name": "python",
   "nbconvert_exporter": "python",
   "pygments_lexer": "ipython3",
   "version": "3.9.5"
  }
 },
 "nbformat": 4,
 "nbformat_minor": 4
}
