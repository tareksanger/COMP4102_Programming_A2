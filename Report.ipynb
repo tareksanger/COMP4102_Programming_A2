{
 "cells": [
  {
   "cell_type": "markdown",
   "metadata": {},
   "source": [
    "# Programming Assignment 2\n",
    "**************************\n",
    "\n",
    "\n",
    "Liam Miller, 101080769    \n",
    "Tarek sanger, 101059696   \n"
   ]
  },
  {
   "cell_type": "markdown",
   "metadata": {},
   "source": [
    "## Question 1\n",
    "-------------"
   ]
  },
  {
   "cell_type": "markdown",
   "metadata": {},
   "source": [
    "For the 5 different CNN models we we tried different variations of the number of Convolutions adn MaxPool Sizes. All tests had a validation accuracy ranging from 65-75"
   ]
  },
  {
   "cell_type": "markdown",
   "metadata": {},
   "source": [
    "## Question 2\n",
    "-------------"
   ]
  },
  {
   "cell_type": "markdown",
   "metadata": {},
   "source": [
    "### 2.2\n",
    "\n",
    "\n",
    "#### Description & Final Model\n",
    "\n",
    "Tried doubling and halving the input size and the learning rate.   \n",
    "Substantial differences in validation accuracy. \n",
    "\n",
    "- Hidden layers neurons of 256, 128, 64 \n",
    "- Increased and decreased the learning rate "
   ]
  },
  {
   "cell_type": "markdown",
   "metadata": {},
   "source": [
    "#### Table of Validation Results\n",
    "\n",
    "\n",
    "| Model         | Size of Hidden Layer  | Learning Rate | Validation Results    |\n",
    "| -----------   | -----------           | -----------   | -----------           |\n",
    "|  1            | n                     | 0.001         | 40%                   |\n",
    "|  1            | n                     | 0.001         | 40%                   |\n",
    "|  1            | n                     | 0.001         | 40%                   |\n",
    "|  1            | n                     | 0.001         | 40%                   |\n",
    "|  1            | n                     | 0.001         | 40%                   |\n",
    "|  1            | n                     | 0.001         | 40%                   |\n",
    "\n"
   ]
  },
  {
   "cell_type": "markdown",
   "metadata": {},
   "source": [
    "#### Best Model Plots"
   ]
  },
  {
   "cell_type": "code",
   "execution_count": null,
   "metadata": {},
   "outputs": [],
   "source": [
    "''' \n",
    "    We need to save the model validation accuracy so we can plot it here.\n",
    "'''\n",
    "import os\n",
    "from IPython.display import Image\n",
    "\n",
    "p2_save_dir = 'some_directory'\n",
    "\n",
    "Image(os.path.join(p2_save_dir, 'best_accuracy.png'))\n"
   ]
  },
  {
   "cell_type": "markdown",
   "metadata": {},
   "source": [
    "#### Confusion Matrix"
   ]
  },
  {
   "cell_type": "code",
   "execution_count": null,
   "metadata": {},
   "outputs": [],
   "source": [
    "''' \n",
    "    Display Confusion Matrix Here\n",
    "'''\n",
    "p2_save_dir = 'some_directory'\n",
    "Image(os.path.join(p2_save_dir, 'best_accuracy.png'))"
   ]
  },
  {
   "cell_type": "markdown",
   "metadata": {},
   "source": [
    "Note: Discussion and Analysis Here"
   ]
  },
  {
   "cell_type": "markdown",
   "metadata": {},
   "source": [
    "### 2.3\n",
    "\n",
    "For part 2.3 we used the [Jane Austen novels](https://www.gutenberg.org/files/31100/31100.txt). This text dataset actually an eBook of the complete works of Jane Austen, by Jane Austen.\n",
    "\n"
   ]
  },
  {
   "cell_type": "markdown",
   "metadata": {},
   "source": [
    "The model being run is a text generation model that trains using random chunks of text in order to learn what letters will proceed two letter pairs. The hidden layer size is 100 and the learning rate is 0.005.  "
   ]
  },
  {
   "cell_type": "markdown",
   "metadata": {},
   "source": [
    "#### Example Generation\n",
    "\n",
    "\n",
    "| Input       | Output                  | \n",
    "| ----------- | -----------             |\n",
    "|  The        | Ther, for had and nothing after whibest manness even a the provence; and <br />\"nower herser a gratia to her but a givemently to supe; and the usuned I shoove such the provighment not to he my disualy a good h  | \n",
    "| West        | Westrestion; and the strution <br /> of on for in the--the out can her see coldlyn her <br /> were of her improve!\"  her.  The dear such a greathing sillimen to her<br /> must aymarne.\" <br /> <br /> Pisencess could her <br /> were to this beas  |   \n",
    "| Penguin     | Penguing a looking a fermulal prose simpinecting in has and sure, and sher understincs, and and very that had gentlead comement of has not a good had her landens, I am a her from I aw band Fanny's with but a   |   \n",
    "| Cake        | Cakention, and hers<br />object,<br />by the him.\"  I am<br /> consuable an her while jouse so life her for his be the much of as I had like a good him soon for convenfing jood have such aterable a s the paling though a |   \n",
    "\n",
    "\n"
   ]
  },
  {
   "cell_type": "markdown",
   "metadata": {},
   "source": [
    "##### Qualitative Discussion of Results\n",
    "\n",
    "\n",
    "The generator seems to be proficient at generating small connecting words in an attempt to construct a sentence. Many smaller words generated are real words. It seems to fail to produce accurate larger words. It also tends to place quotations where they are unnecessary. It also sometimes makes spaces in an attempt to start new paragraphs even though it is mostly unnecessary. \n"
   ]
  }
 ],
 "metadata": {
  "language_info": {
   "name": "python"
  },
  "orig_nbformat": 4
 },
 "nbformat": 4,
 "nbformat_minor": 2
}
