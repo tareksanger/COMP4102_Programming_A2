{
 "cells": [
  {
   "cell_type": "markdown",
   "metadata": {},
   "source": [
    "![](https://i.imgur.com/eBRPvWB.png)\n",
    "\n",
    "# Practical PyTorch: Generating Shakespeare with a Character-Level RNN\n",
    "\n",
    "[In the RNN classification tutorial](https://github.com/spro/practical-pytorch/blob/master/char-rnn-classification/char-rnn-classification.ipynb) we used a RNN to classify text one character at a time. This time we'll generate text one character at a time.\n",
    "\n",
    "```\n",
    "> python generate.py -n 500\n",
    "\n",
    "PAOLTREDN:\n",
    "Let, yil exter shis owrach we so sain, fleas,\n",
    "Be wast the shall deas, puty sonse my sheete.\n",
    "\n",
    "BAUFIO:\n",
    "Sirh carrow out with the knonuot my comest sifard queences\n",
    "O all a man unterd.\n",
    "\n",
    "PROMENSJO:\n",
    "Ay, I to Heron, I sack, againous; bepear, Butch,\n",
    "An as shalp will of that seal think.\n",
    "\n",
    "NUKINUS:\n",
    "And house it to thee word off hee:\n",
    "And thou charrota the son hange of that shall denthand\n",
    "For the say hor you are of I folles muth me?\n",
    "```\n",
    "\n",
    "This one might make you question the series title &mdash; \"is that really practical?\" However, these sorts of generative models form the basis of machine translation, image captioning, question answering and more. See the [Sequence to Sequence Translation tutorial](https://github.com/spro/practical-pytorch/blob/master/seq2seq-translation/seq2seq-translation.ipynb) for more on that topic."
   ]
  },
  {
   "cell_type": "markdown",
   "metadata": {},
   "source": [
    "# Recommended Reading\n",
    "\n",
    "I assume you have at least installed PyTorch, know Python, and understand Tensors:\n",
    "\n",
    "* http://pytorch.org/ For installation instructions\n",
    "* [Deep Learning with PyTorch: A 60-minute Blitz](https://github.com/pytorch/tutorials/blob/master/Deep%20Learning%20with%20PyTorch.ipynb) to get started with PyTorch in general\n",
    "* [jcjohnson's PyTorch examples](https://github.com/jcjohnson/pytorch-examples) for an in depth overview\n",
    "* [Introduction to PyTorch for former Torchies](https://github.com/pytorch/tutorials/blob/master/Introduction%20to%20PyTorch%20for%20former%20Torchies.ipynb) if you are former Lua Torch user\n",
    "\n",
    "It would also be useful to know about RNNs and how they work:\n",
    "\n",
    "* [The Unreasonable Effectiveness of Recurrent Neural Networks](http://karpathy.github.io/2015/05/21/rnn-effectiveness/) shows a bunch of real life examples\n",
    "* [Understanding LSTM Networks](http://colah.github.io/posts/2015-08-Understanding-LSTMs/) is about LSTMs specifically but also informative about RNNs in general\n",
    "\n",
    "Also see these related tutorials from the series:\n",
    "\n",
    "* [Classifying Names with a Character-Level RNN](https://github.com/spro/practical-pytorch/blob/master/char-rnn-classification/char-rnn-classification.ipynb) uses an RNN for classification\n",
    "* [Generating Names with a Conditional Character-Level RNN](https://github.com/spro/practical-pytorch/blob/master/conditional-char-rnn/conditional-char-rnn.ipynb) builds on this model to add a category as input"
   ]
  },
  {
   "cell_type": "markdown",
   "metadata": {},
   "source": [
    "# Prepare data\n",
    "\n",
    "The file we are using is a plain text file. We turn any potential unicode characters into plain ASCII by using the `unidecode` package (which you can install via `pip` or `conda`)."
   ]
  },
  {
   "cell_type": "code",
   "execution_count": 1,
   "metadata": {
    "collapsed": false,
    "jupyter": {
     "outputs_hidden": false
    }
   },
   "outputs": [
    {
     "name": "stdout",
     "output_type": "stream",
     "text": [
      "file_len = 4373595\n"
     ]
    }
   ],
   "source": [
    "import unidecode\n",
    "import string\n",
    "import random\n",
    "import re\n",
    "\n",
    "all_characters = string.printable\n",
    "n_characters = len(all_characters)\n",
    "\n",
    "file = unidecode.unidecode(open('test.txt').read())\n",
    "val_file = unidecode.unidecode(open('validation.txt').read())\n",
    "val_len = len(val_file)\n",
    "file_len = len(file)\n",
    "print('file_len =', file_len)"
   ]
  },
  {
   "cell_type": "markdown",
   "metadata": {},
   "source": [
    "To make inputs out of this big string of data, we will be splitting it into chunks."
   ]
  },
  {
   "cell_type": "code",
   "execution_count": 2,
   "metadata": {
    "collapsed": false,
    "jupyter": {
     "outputs_hidden": false
    }
   },
   "outputs": [
    {
     "name": "stdout",
     "output_type": "stream",
     "text": [
      "rselves: I did not mention a syllable of it in the other\n",
      "room. There are secrets in all families, you know)--The case is, that a\n",
      "party of friends are invited to pay a visit at Enscombe in January; and\n",
      "\n"
     ]
    }
   ],
   "source": [
    "chunk_len = 200\n",
    "\n",
    "def random_chunk():\n",
    "    start_index = random.randint(0, file_len - chunk_len)\n",
    "    end_index = start_index + chunk_len + 1\n",
    "    return file[start_index:end_index]\n",
    "\n",
    "def random_val_chunk():\n",
    "    start_index = random.randint(0, val_len - chunk_len)\n",
    "    end_index = start_index + chunk_len + 1\n",
    "    return val_file[start_index:end_index]\n",
    "\n",
    "print(random_chunk())"
   ]
  },
  {
   "cell_type": "markdown",
   "metadata": {},
   "source": [
    "# Build the Model\n",
    "\n",
    "This model will take as input the character for step $t_{-1}$ and is expected to output the next character $t$. There are three layers - one linear layer that encodes the input character into an internal state, one GRU layer (which may itself have multiple layers) that operates on that internal state and a hidden state, and a decoder layer that outputs the probability distribution."
   ]
  },
  {
   "cell_type": "code",
   "execution_count": 3,
   "metadata": {
    "collapsed": false,
    "jupyter": {
     "outputs_hidden": false
    }
   },
   "outputs": [],
   "source": [
    "import torch\n",
    "import torch.nn as nn\n",
    "from torch.autograd import Variable\n",
    "\n",
    "class RNN(nn.Module):\n",
    "    def __init__(self, input_size, hidden_size, output_size, n_layers=1):\n",
    "        super(RNN, self).__init__()\n",
    "        self.input_size = input_size\n",
    "        self.hidden_size = hidden_size\n",
    "        self.output_size = output_size\n",
    "        self.n_layers = n_layers\n",
    "        \n",
    "        self.encoder = nn.Embedding(input_size, hidden_size)\n",
    "        self.gru = nn.GRU(hidden_size, hidden_size, n_layers)\n",
    "        self.decoder = nn.Linear(hidden_size, output_size)\n",
    "    \n",
    "    def forward(self, input, hidden):\n",
    "        input = self.encoder(input.view(1, -1))\n",
    "        output, hidden = self.gru(input.view(1, 1, -1), hidden)\n",
    "        output = self.decoder(output.view(1, -1))\n",
    "        return output, hidden\n",
    "\n",
    "    def init_hidden(self):\n",
    "        return Variable(torch.zeros(self.n_layers, 1, self.hidden_size))"
   ]
  },
  {
   "cell_type": "markdown",
   "metadata": {},
   "source": [
    "# Inputs and Targets"
   ]
  },
  {
   "cell_type": "markdown",
   "metadata": {},
   "source": [
    "Each chunk will be turned into a tensor, specifically a `LongTensor` (used for integer values), by looping through the characters of the string and looking up the index of each character in `all_characters`."
   ]
  },
  {
   "cell_type": "code",
   "execution_count": 4,
   "metadata": {
    "collapsed": false,
    "jupyter": {
     "outputs_hidden": false
    }
   },
   "outputs": [
    {
     "name": "stdout",
     "output_type": "stream",
     "text": [
      "tensor([10, 11, 12, 39, 40, 41])\n"
     ]
    }
   ],
   "source": [
    "# Turn string into list of longs\n",
    "def char_tensor(string):\n",
    "    tensor = torch.zeros(len(string)).long()\n",
    "    for c in range(len(string)):\n",
    "        tensor[c] = all_characters.index(string[c])\n",
    "    return Variable(tensor)\n",
    "\n",
    "print(char_tensor('abcDEF'))"
   ]
  },
  {
   "cell_type": "markdown",
   "metadata": {},
   "source": [
    "Finally we can assemble a pair of input and target tensors for training, from a random chunk. The input will be all characters *up to the last*, and the target will be all characters *from the first*. So if our chunk is \"abc\" the input will correspond to \"ab\" while the target is \"bc\"."
   ]
  },
  {
   "cell_type": "code",
   "execution_count": 5,
   "metadata": {},
   "outputs": [],
   "source": [
    "def random_training_set():\n",
    "    while True:\n",
    "        chunk = random_chunk()\n",
    "        inp = char_tensor(chunk[:-1])\n",
    "        target = char_tensor(chunk[1:])\n",
    "        if len(inp) != 0 and len(target) !=0:\n",
    "            break\n",
    "    return inp, target\n",
    "\n",
    "def random_validation_set():\n",
    "    while True:\n",
    "        chunk = random_val_chunk()\n",
    "        inp = char_tensor(chunk[:-1])\n",
    "        target = char_tensor(chunk[1:])\n",
    "        if len(inp) != 0 and len(target) !=0:\n",
    "            break\n",
    "    return inp, target"
   ]
  },
  {
   "cell_type": "markdown",
   "metadata": {},
   "source": [
    "# Evaluating\n",
    "\n",
    "To evaluate the network we will feed one character at a time, use the outputs of the network as a probability distribution for the next character, and repeat. To start generation we pass a priming string to start building up the hidden state, from which we then generate one character at a time."
   ]
  },
  {
   "cell_type": "code",
   "execution_count": 6,
   "metadata": {
    "collapsed": false,
    "jupyter": {
     "outputs_hidden": false
    }
   },
   "outputs": [],
   "source": [
    "def evaluate(prime_str='A', predict_len=100, temperature=0.8):\n",
    "    hidden = decoder.init_hidden()\n",
    "    prime_input = char_tensor(prime_str)\n",
    "    predicted = prime_str\n",
    "\n",
    "    # Use priming string to \"build up\" hidden state\n",
    "    for p in range(len(prime_str) - 1):\n",
    "        _, hidden = decoder(prime_input[p], hidden)\n",
    "    inp = prime_input[-1]\n",
    "    \n",
    "    for p in range(predict_len):\n",
    "        output, hidden = decoder(inp, hidden)\n",
    "        \n",
    "        # Sample from the network as a multinomial distribution\n",
    "        output_dist = output.data.view(-1).div(temperature).exp()\n",
    "        top_i = torch.multinomial(output_dist, 1)[0]\n",
    "        \n",
    "        # Add predicted character to string and use as next input\n",
    "        predicted_char = all_characters[top_i]\n",
    "        predicted += predicted_char\n",
    "        inp = char_tensor(predicted_char)\n",
    "\n",
    "    return predicted"
   ]
  },
  {
   "cell_type": "markdown",
   "metadata": {},
   "source": [
    "# Training"
   ]
  },
  {
   "cell_type": "markdown",
   "metadata": {},
   "source": [
    "A helper to print the amount of time passed:"
   ]
  },
  {
   "cell_type": "code",
   "execution_count": 7,
   "metadata": {},
   "outputs": [],
   "source": [
    "import time, math\n",
    "\n",
    "def time_since(since):\n",
    "    s = time.time() - since\n",
    "    m = math.floor(s / 60)\n",
    "    s -= m * 60\n",
    "    return '%dm %ds' % (m, s)"
   ]
  },
  {
   "cell_type": "markdown",
   "metadata": {},
   "source": [
    "The main training function"
   ]
  },
  {
   "cell_type": "code",
   "execution_count": 8,
   "metadata": {
    "tags": []
   },
   "outputs": [],
   "source": [
    "def train(inp, target):\n",
    "    hidden = decoder.init_hidden()\n",
    "    decoder.zero_grad()\n",
    "    loss = 0\n",
    "\n",
    "    for c in range(chunk_len):\n",
    "        output, hidden = decoder(inp[c], hidden)\n",
    "        loss += criterion(output, target[c].flatten())\n",
    "\n",
    "    loss.backward()\n",
    "    decoder_optimizer.step()\n",
    "\n",
    "    return loss.item()/ chunk_len"
   ]
  },
  {
   "cell_type": "markdown",
   "metadata": {},
   "source": [
    "Then we define the training parameters, instantiate the model, and start training:"
   ]
  },
  {
   "cell_type": "code",
   "execution_count": 9,
   "metadata": {
    "collapsed": false,
    "jupyter": {
     "outputs_hidden": false
    }
   },
   "outputs": [
    {
     "name": "stdout",
     "output_type": "stream",
     "text": [
      "[0m 17s (100 5%) 2.3075]\n",
      "Whe Lome'sy ware thinge yeinged\"\n",
      "ouc in tho montareI xase swen no ole to it ente abe war Blie; mand.\n",
      "\n",
      " \n",
      "\n",
      "[0m 34s (200 10%) 2.1905]\n",
      "Whan Wary sores sartione in thould are her call whe Elout ver ingeche the pleen, and care to baat ta\n",
      "r \n",
      "\n",
      "[0m 52s (300 15%) 1.8938]\n",
      "Whotterweren to ney lany some lever seeane.\"\n",
      "\n",
      "\"I domloy yous sweer she weable be of and tam with.\"\n",
      "\"A  \n",
      "\n",
      "[1m 9s (400 20%) 1.9366]\n",
      "Whis a sting of all the\n",
      "beving all\n",
      "that. Be Hoogh, well theer to please as I do\n",
      "igeth.\n",
      "\n",
      "Shouch and is  \n",
      "\n",
      "[1m 25s (500 25%) 1.8657]\n",
      "Whel semay eall that ealle on of to provion she be was wall that Miss and acurnesur on that to fun eou \n",
      "\n",
      "[1m 41s (600 30%) 1.7789]\n",
      "Whewerd, was secious, as\n",
      "with in it wisted fo of as she should moust pelling\n",
      "of her, sace deard sice t \n",
      "\n",
      "[1m 57s (700 35%) 2.0718]\n",
      "Whess ye was the so itteress int; and the her ousted I and theny art he you was susely, and such of ha \n",
      "\n",
      "[2m 13s (800 40%) 1.7613]\n",
      "What with not many to be for her.\"\n",
      "\n",
      "\"Omonter from.\"\n",
      "\n",
      "\"Ve famion as that wat had, end of minsty donety  \n",
      "\n",
      "[2m 29s (900 45%) 1.7571]\n",
      "Whe, him, I sage you his appoyed that arristaind you betterure\n",
      "a beent intore that puricce stroming. I \n",
      "\n",
      "[2m 46s (1000 50%) 1.6674]\n",
      "Wher had for to not intross the cremelf knowing. Your cuncrient. Elly andear once of the with the undo \n",
      "\n",
      "[3m 2s (1100 55%) 1.7615]\n",
      "Whing had allows tirming had beal were say\n",
      "to\n",
      "engess, sistling not to to mothed of he will to be were  \n",
      "\n",
      "[3m 18s (1200 60%) 1.8591]\n",
      "Whey wish\n",
      "which the Spleasuly him a parfulable a stakeking\n",
      "unare to to say which prected. AJe faid, an \n",
      "\n",
      "[3m 37s (1300 65%) 1.8342]\n",
      "Where,\" surright after ungand them lost of the had spined of the cord, I comunting stir of perspoins;  \n",
      "\n",
      "[3m 58s (1400 70%) 1.7692]\n",
      "Whern, the indightoused compley of leays, and very for into Willeied a the\n",
      "-you refund cousing as recc \n",
      "\n",
      "[4m 19s (1500 75%) 1.7037]\n",
      "Whe were. She Sir Elteriming to as could not been whole surpsecte the\n",
      "seence to her sacing was house;  \n",
      "\n",
      "[4m 40s (1600 80%) 1.8801]\n",
      "Whe was to give of Pothen\n",
      "my convertonne, and the And were fres all for.\"\n",
      "\n",
      "Miss Bennnight was and I wa \n",
      "\n",
      "[5m 9s (1700 85%) 2.1933]\n",
      "What in at Mr. Bet not sore a dressed to every other, and nevern to the remarut of her fame and the hi \n",
      "\n",
      "[5m 35s (1800 90%) 1.6698]\n",
      "Whey own upon. Heart her the\n",
      "\n",
      "that pening of her morny farck.\"\n",
      "\n",
      "\"dinced, if beccuitially, she had must \n",
      "\n",
      "[6m 3s (1900 95%) 1.7716]\n",
      "Whattle of very may be resse, and hossent ternk of lately re she can her dearly in her\n",
      "may a done came \n",
      "\n",
      "[6m 24s (2000 100%) 1.7373]\n",
      "Whemed all wee unded alls to they herself a marrating a would gest in arram made say\n",
      "been had but suit \n",
      "\n"
     ]
    }
   ],
   "source": [
    "n_epochs = 2000\n",
    "print_every = 100\n",
    "plot_every = 10\n",
    "hidden_size = 100\n",
    "n_layers = 1\n",
    "lr = 0.005\n",
    "\n",
    "decoder = RNN(n_characters, hidden_size, n_characters, n_layers)\n",
    "decoder_optimizer = torch.optim.Adam(decoder.parameters(), lr=lr)\n",
    "criterion = nn.CrossEntropyLoss()\n",
    "\n",
    "start = time.time()\n",
    "all_losses = []\n",
    "loss_avg = 0\n",
    "\n",
    "for epoch in range(1, n_epochs + 1):\n",
    "    loss = train(*random_training_set())       \n",
    "    loss_avg += loss\n",
    "\n",
    "    if epoch % print_every == 0:\n",
    "        print('[%s (%d %d%%) %.4f]' % (time_since(start), epoch, epoch / n_epochs * 100, loss))\n",
    "        print(evaluate('Wh', 100), '\\n')\n",
    "\n",
    "    if epoch % plot_every == 0:\n",
    "        all_losses.append(loss_avg / plot_every)\n",
    "        loss_avg = 0\n",
    "        \n",
    "\n"
   ]
  },
  {
   "cell_type": "markdown",
   "metadata": {},
   "source": [
    "# Plotting the Training Losses\n",
    "\n",
    "Plotting the historical loss from all_losses shows the network learning:"
   ]
  },
  {
   "cell_type": "code",
   "execution_count": 10,
   "metadata": {
    "collapsed": false,
    "jupyter": {
     "outputs_hidden": false
    }
   },
   "outputs": [
    {
     "data": {
      "text/plain": [
       "[<matplotlib.lines.Line2D at 0x17137a5b940>]"
      ]
     },
     "execution_count": 10,
     "metadata": {},
     "output_type": "execute_result"
    },
    {
     "data": {
      "image/png": "[encoded data removed]",
      "text/plain": [
       "<Figure size 432x288 with 1 Axes>"
      ]
     },
     "metadata": {
      "needs_background": "light"
     },
     "output_type": "display_data"
    }
   ],
   "source": [
    "import matplotlib.pyplot as plt\n",
    "import matplotlib.ticker as ticker\n",
    "%matplotlib inline\n",
    "\n",
    "plt.figure()\n",
    "plt.plot(all_losses)\n",
    "\n"
   ]
  },
  {
   "cell_type": "markdown",
   "metadata": {},
   "source": [
    "# Evaluating at different \"temperatures\"\n",
    "\n",
    "In the `evaluate` function above, every time a prediction is made the outputs are divided by the \"temperature\" argument passed. Using a higher number makes all actions more equally likely, and thus gives us \"more random\" outputs. Using a lower value (less than 1) makes high probabilities contribute more. As we turn the temperature towards zero we are choosing only the most likely outputs.\n",
    "\n",
    "We can see the effects of this by adjusting the `temperature` argument."
   ]
  },
  {
   "cell_type": "code",
   "execution_count": 22,
   "metadata": {
    "collapsed": false,
    "jupyter": {
     "outputs_hidden": false
    }
   },
   "outputs": [
    {
     "name": "stdout",
     "output_type": "stream",
     "text": [
      "[0m 6s (100 5%) 1.7373]\n",
      "Whe Asting did uted aprice the not great in the not dimpting to the course of the couse be too be a po \n",
      "\n",
      "3.904421700157597\n",
      "[0m 13s (200 10%) 1.7373]\n",
      "What it. I done becouse any Charmin. It. It wid the oughtefore of _thought think of the will stain som \n",
      "\n",
      "4.611012288277528\n",
      "[0m 19s (300 15%) 1.7373]\n",
      "Whe live the man a again to driving a cannoted a course\n",
      "to never being ratuned being something to Wert \n",
      "\n",
      "5.06149701586094\n",
      "[0m 25s (400 20%) 1.7373]\n",
      "What sother arrips that my had\n",
      "fecertion differented of 4 grand of the Lady I callwing a mentions drea \n",
      "\n",
      "5.80697306633862\n",
      "[0m 32s (500 25%) 1.7373]\n",
      "Whour now as and calling, and\n",
      "Captight _theme_ stire. I have not\n",
      "thing of affulling muse a\n",
      "count which \n",
      "\n",
      "4.683207820619341\n",
      "[0m 38s (600 30%) 1.7373]\n",
      "Wherly. I can us. It was him. If a saind with the spirit the felt it.\"\n",
      "\n",
      "Dand bated in any twood there, \n",
      "\n",
      "5.917726100761877\n",
      "[0m 45s (700 35%) 1.7373]\n",
      "What Morlate racarmented a gratifereation as\n",
      "real him of in Dose's strouse for the the\n",
      "came of as sit  \n",
      "\n",
      "5.391972893543452\n",
      "[0m 51s (800 40%) 1.7373]\n",
      "Whing well,\n",
      "it each annetsing too all the same of all for the I shoulf\n",
      "that I am progher, sin, and Eli \n",
      "\n",
      "4.586281009210781\n",
      "[0m 57s (900 45%) 1.7373]\n",
      "What think that Lizzy Captain, I knowlef secure, and a must himself. It chilling\n",
      "that in him had not o \n",
      "\n",
      "5.092730743081922\n",
      "[1m 4s (1000 50%) 1.7373]\n",
      "Whan to after as a day. Crathe. I have did not right\n",
      "the I am bluashience and\n",
      "racinicam young the cons \n",
      "\n",
      "6.16313647159074\n",
      "[1m 11s (1100 55%) 1.7373]\n",
      "Who well. Is the Daughter of all the at the have as perfect varies of carpsing of 4\n",
      "\n",
      "LAMind the had on \n",
      "\n",
      "4.691885387019021\n",
      "[1m 17s (1200 60%) 1.7373]\n",
      "What a not her becumerting to take and well, too one doarly in his being on a she said them in last to \n",
      "\n",
      "5.691447965010305\n",
      "[1m 24s (1300 65%) 1.7373]\n",
      "Whe and shall for, in their to be instonce done of affary to have reseation, I ladaid\n",
      "make too Mr. Cra \n",
      "\n",
      "4.272636739829729\n",
      "[1m 30s (1400 70%) 1.7373]\n",
      "When I have by the Daught of the fond the his the for me are them a scriove conston too the nothing an \n",
      "\n",
      "5.044753003058843\n",
      "[1m 37s (1500 75%) 1.7373]\n",
      "Whe had at house if poins of the recose to be the from spea; and the proberable more at thinter of a d \n",
      "\n",
      "4.852755371064958\n",
      "[1m 45s (1600 80%) 1.7373]\n",
      "Whe\n",
      "the no be the diacing exconside all think she could be to himself, to a prentialing the cousinst i \n",
      "\n",
      "4.41190868213319\n",
      "[1m 53s (1700 85%) 1.7373]\n",
      "Wher, we approte in aboducy. You it to one of tention her fertailing Ground\n",
      "before was of Ame a\n",
      "fenter \n",
      "\n",
      "4.689700177347236\n",
      "[2m 3s (1800 90%) 1.7373]\n",
      "Whey were do or\n",
      "The daughter\n",
      "his and appeared himself such for him the happinions, his the prox of mor \n",
      "\n",
      "5.340264953783862\n",
      "[2m 12s (1900 95%) 1.7373]\n",
      "What sather of must sid any of without on had the to time and the Derwed perfect, however speaking to  \n",
      "\n",
      "4.654595073132554\n",
      "[2m 21s (2000 100%) 1.7373]\n",
      "What entering was again and exit of having and sain inceititure and a good to be think too and suchila \n",
      "\n",
      "4.929694147194557\n",
      "4.989930030450852\n"
     ]
    }
   ],
   "source": [
    "def validate(inp, target):\n",
    "    hidden = decoder.init_hidden()\n",
    "    decoder.zero_grad()\n",
    "    loss = 0\n",
    "\n",
    "    for c in range(chunk_len):\n",
    "        output, hidden = decoder(inp[c], hidden)\n",
    "        loss += criterion(output, target[c].flatten())\n",
    "        \n",
    "    return loss.item()/ chunk_len\n",
    "\n",
    "start = time.time()\n",
    "val_all_losses = []\n",
    "val_loss_avg = 0\n",
    "totPerplexity = 0\n",
    "ppAverage = 0\n",
    "counter = 0\n",
    "for epoch in range(1, n_epochs + 1):\n",
    "    val_loss =  validate(*random_validation_set())       \n",
    "    val_loss_avg += val_loss\n",
    "\n",
    "    if epoch % print_every == 0:\n",
    "        print('[%s (%d %d%%) %.4f]' % (time_since(start), epoch, epoch / n_epochs * 100, loss))\n",
    "        print(evaluate('Wh', 100), '\\n')\n",
    "        perplexity = math.exp(val_loss)\n",
    "        print(perplexity)\n",
    "        totPerplexity = totPerplexity + perplexity\n",
    "        counter = counter + 1\n",
    "\n",
    "    if epoch % plot_every == 0:\n",
    "        val_all_losses.append(loss_avg / plot_every)\n",
    "        loss_avg = 0\n",
    "        \n",
    "ppAverage = totPerplexity/ counter\n",
    "print(ppAverage)\n"
   ]
  },
  {
   "cell_type": "code",
   "execution_count": 16,
   "metadata": {
    "collapsed": false,
    "jupyter": {
     "outputs_hidden": false
    }
   },
   "outputs": [
    {
     "name": "stdout",
     "output_type": "stream",
     "text": [
      "Cakention, and hers\n",
      "object,\n",
      "by the him.\"  I am\n",
      "consuable an her while jouse so life her for his be the much of as I had like a good him soon for convenfing jood have such aterable a s the paling though a \n"
     ]
    }
   ],
   "source": [
    "print(evaluate('Cake', 200, temperature=0.8))"
   ]
  },
  {
   "cell_type": "markdown",
   "metadata": {},
   "source": [
    "Lower temperatures are less varied, choosing only the more probable outputs:"
   ]
  },
  {
   "cell_type": "code",
   "execution_count": null,
   "metadata": {
    "collapsed": false,
    "jupyter": {
     "outputs_hidden": false
    }
   },
   "outputs": [],
   "source": [
    "print(evaluate('Th', 200, temperature=0.2))"
   ]
  },
  {
   "cell_type": "markdown",
   "metadata": {},
   "source": [
    "Higher temperatures more varied, choosing less probable outputs:"
   ]
  },
  {
   "cell_type": "code",
   "execution_count": null,
   "metadata": {
    "collapsed": false,
    "jupyter": {
     "outputs_hidden": false
    }
   },
   "outputs": [],
   "source": [
    "print(evaluate('Th', 200, temperature=1.4))"
   ]
  },
  {
   "cell_type": "markdown",
   "metadata": {},
   "source": [
    "# Exercises\n",
    "\n",
    "* Train with your own dataset, e.g.\n",
    "    * Text from another author\n",
    "    * Blog posts\n",
    "    * Code\n",
    "* Increase number of layers and network size to get better results"
   ]
  },
  {
   "cell_type": "markdown",
   "metadata": {},
   "source": [
    "**Next**: [Generating Names with a Conditional Character-Level RNN](https://github.com/spro/practical-pytorch/blob/master/conditional-char-rnn/conditional-char-rnn.ipynb)"
   ]
  }
 ],
 "metadata": {
  "anaconda-cloud": {},
  "kernelspec": {
   "display_name": "Python 3 (ipykernel)",
   "language": "python",
   "name": "python3"
  },
  "language_info": {
   "codemirror_mode": {
    "name": "ipython",
    "version": 3
   },
   "file_extension": ".py",
   "mimetype": "text/x-python",
   "name": "python",
   "nbconvert_exporter": "python",
   "pygments_lexer": "ipython3",
   "version": "3.9.5"
  }
 },
 "nbformat": 4,
 "nbformat_minor": 4
}
